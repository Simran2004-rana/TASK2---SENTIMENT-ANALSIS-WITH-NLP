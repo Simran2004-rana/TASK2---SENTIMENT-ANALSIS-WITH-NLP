{
 "cells": [
  {
   "cell_type": "markdown",
   "id": "06d5b9d4",
   "metadata": {},
   "source": [
    "# Task 2: Logistic Regression with Preprocessing and Evaluation – CodTech Internship\n",
    "This notebook demonstrates the complete ML workflow using **Logistic Regression** on the Breast Cancer Wisconsin dataset. We perform data preprocessing, train a model, evaluate its performance, and analyze results both quantitatively and visually."
   ]
  },
  {
   "cell_type": "code",
   "execution_count": null,
   "id": "653cf18a",
   "metadata": {},
   "outputs": [],
   "source": [
    "# 📦 Imports\n",
    "import pandas as pd\n",
    "import numpy as np\n",
    "import matplotlib.pyplot as plt\n",
    "import seaborn as sns\n",
    "from sklearn.datasets import load_breast_cancer\n",
    "from sklearn.model_selection import train_test_split\n",
    "from sklearn.linear_model import LogisticRegression\n",
    "from sklearn.metrics import accuracy_score, classification_report, confusion_matrix\n",
    "from sklearn.preprocessing import StandardScaler\n"
   ]
  },
  {
   "cell_type": "code",
   "execution_count": null,
   "id": "169335b8",
   "metadata": {},
   "outputs": [],
   "source": [
    "# 📊 Load Breast Cancer dataset\n",
    "data = load_breast_cancer()\n",
    "X = pd.DataFrame(data.data, columns=data.feature_names)\n",
    "y = pd.Series(data.target)\n",
    "target_names = data.target_names\n",
    "X.head()"
   ]
  },
  {
   "cell_type": "code",
   "execution_count": null,
   "id": "04d02b8b",
   "metadata": {},
   "outputs": [],
   "source": [
    "# ℹ️ Dataset Overview\n",
    "print(f'Total samples: {X.shape[0]}')\n",
    "print(f'Total features: {X.shape[1]}')\n",
    "print(f'Target classes: {target_names.tolist()}')"
   ]
  },
  {
   "cell_type": "code",
   "execution_count": null,
   "id": "33a1b924",
   "metadata": {},
   "outputs": [],
   "source": [
    "# 🔍 Data Preprocessing – Standardization\n",
    "scaler = StandardScaler()\n",
    "X_scaled = scaler.fit_transform(X)\n",
    "X_scaled = pd.DataFrame(X_scaled, columns=X.columns)"
   ]
  },
  {
   "cell_type": "code",
   "execution_count": null,
   "id": "ab9941f9",
   "metadata": {},
   "outputs": [],
   "source": [
    "# ✂️ Train–Test Split\n",
    "X_train, X_test, y_train, y_test = train_test_split(\n",
    "    X_scaled, y, test_size=0.2, random_state=42, stratify=y\n",
    ")\n",
    "print('Training samples:', X_train.shape[0], '| Test samples:', X_test.shape[0])"
   ]
  },
  {
   "cell_type": "code",
   "execution_count": null,
   "id": "805da37d",
   "metadata": {},
   "outputs": [],
   "source": [
    "# 🧠 Train Logistic Regression Model\n",
    "model = LogisticRegression(max_iter=10000, random_state=42)\n",
    "model.fit(X_train, y_train)"
   ]
  },
  {
   "cell_type": "code",
   "execution_count": null,
   "id": "d61f5b91",
   "metadata": {},
   "outputs": [],
   "source": [
    "# 📈 Predictions and Accuracy\n",
    "y_pred = model.predict(X_test)\n",
    "accuracy = accuracy_score(y_test, y_pred)\n",
    "print(f'🔹 Accuracy: {accuracy:.4f}')"
   ]
  },
  {
   "cell_type": "code",
   "execution_count": null,
   "id": "215c9346",
   "metadata": {},
   "outputs": [],
   "source": [
    "# 📝 Classification Report\n",
    "print(classification_report(y_test, y_pred, target_names=target_names))"
   ]
  },
  {
   "cell_type": "code",
   "execution_count": null,
   "id": "63f2f0c9",
   "metadata": {},
   "outputs": [],
   "source": [
    "# 🔍 Confusion Matrix\n",
    "cm = confusion_matrix(y_test, y_pred)\n",
    "plt.figure(figsize=(6,4))\n",
    "sns.heatmap(cm, annot=True, fmt='d', cmap='Purples', xticklabels=target_names, yticklabels=target_names)\n",
    "plt.xlabel('Predicted')\n",
    "plt.ylabel('Actual')\n",
    "plt.title('Confusion Matrix')\n",
    "plt.show()"
   ]
  },
  {
   "cell_type": "markdown",
   "id": "a1146dda",
   "metadata": {},
   "source": [
    "### ✅ Summary:\n",
    "- Standardized the input features for better model performance.\n",
    "- Trained Logistic Regression on Breast Cancer data.\n",
    "- Achieved high accuracy and well-distributed precision/recall.\n",
    "- Visualized confusion matrix for error analysis."
   ]
  }
 ],
 "metadata": {},
 "nbformat": 4,
 "nbformat_minor": 5
}
